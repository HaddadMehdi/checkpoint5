{
 "cells": [
  {
   "cell_type": "code",
   "execution_count": 112,
   "id": "3d7a9d77-5922-477f-948f-e6f9b7f95802",
   "metadata": {},
   "outputs": [
    {
     "name": "stdout",
     "output_type": "stream",
     "text": [
      "[1 2 3 4]\n"
     ]
    }
   ],
   "source": [
    "#************Question1:\n",
    "\n",
    "import numpy as np\n",
    "\n",
    "np=np.array((1,2,3,4))\n",
    "\n",
    "print(np)"
   ]
  },
  {
   "cell_type": "code",
   "execution_count": 113,
   "id": "233fe001-f0cc-465b-9bf1-914e39df6ebe",
   "metadata": {},
   "outputs": [
    {
     "name": "stdout",
     "output_type": "stream",
     "text": [
      "[1, 2, 3, 4]\n"
     ]
    }
   ],
   "source": [
    "l = np.tolist()\n",
    "\n",
    "print(l)"
   ]
  },
  {
   "cell_type": "code",
   "execution_count": 114,
   "id": "dbd062ae-cb2d-4894-b492-5cc35c085699",
   "metadata": {},
   "outputs": [
    {
     "name": "stdout",
     "output_type": "stream",
     "text": [
      "[[55 25 15]\n",
      " [30 44  2]\n",
      " [11 45 77]]\n"
     ]
    }
   ],
   "source": [
    "#************Question2:\n",
    "\n",
    "import numpy as np \n",
    "  \n",
    "n_array = np.array([[55, 25, 15], \n",
    "                    [30, 44, 2], \n",
    "                    [11, 45, 77]]) \n",
    "  \n",
    "\n",
    "print(n_array) \n"
   ]
  },
  {
   "cell_type": "code",
   "execution_count": 115,
   "id": "806c139f-5763-41a0-b7b0-fb025eb1cae5",
   "metadata": {},
   "outputs": [
    {
     "name": "stdout",
     "output_type": "stream",
     "text": [
      "176\n"
     ]
    }
   ],
   "source": [
    "trace = np.trace(n_array) \n",
    "  \n",
    "print(trace) "
   ]
  },
  {
   "cell_type": "code",
   "execution_count": 116,
   "id": "9aedf63e-1812-4198-a107-5c73571cb024",
   "metadata": {},
   "outputs": [
    {
     "name": "stdin",
     "output_type": "stream",
     "text": [
      " 2\n"
     ]
    },
    {
     "name": "stdout",
     "output_type": "stream",
     "text": [
      "les valeur sont : [3, 5]\n"
     ]
    }
   ],
   "source": [
    "#************Question3:\n",
    "x=input()\n",
    "import numpy as np\n",
    "n_array = np.array([[1, 2], \n",
    "                    [3,5]])\n",
    "i=0\n",
    "D=[]\n",
    "L = n_array.reshape(1,-1)\n",
    "while i < L.shape[1]:\n",
    "    if L[0,i] > int(x):\n",
    "        D.append(L[0,i])\n",
    "    i=i+1  \n",
    "    \n",
    "print(\"les valeur sont :\",D)"
   ]
  },
  {
   "cell_type": "code",
   "execution_count": null,
   "id": "4840a7e5-5659-41ce-b580-9b231b266525",
   "metadata": {},
   "outputs": [],
   "source": []
  },
  {
   "cell_type": "code",
   "execution_count": 117,
   "id": "d250e4b3-e3dd-4fe3-a90b-a71c264d01b7",
   "metadata": {},
   "outputs": [],
   "source": [
    "#************Question4:\n",
    "\n",
    "import numpy as np\n",
    "\n",
    "A=np.array([[1,2],[3,4]])\n",
    "B=np.array([[5,6],[7,8]])"
   ]
  },
  {
   "cell_type": "code",
   "execution_count": 118,
   "id": "85f53877-76a1-4675-90d7-9ba70750d925",
   "metadata": {},
   "outputs": [
    {
     "name": "stdout",
     "output_type": "stream",
     "text": [
      "[[ 6  8]\n",
      " [10 12]]\n"
     ]
    }
   ],
   "source": [
    "C=np.add(A, B)\n",
    "print(C)"
   ]
  },
  {
   "cell_type": "code",
   "execution_count": 23,
   "id": "b3ca42a0-afb2-4d09-9686-cb5bc0bac2c7",
   "metadata": {},
   "outputs": [],
   "source": [
    "#************Question5:"
   ]
  },
  {
   "cell_type": "code",
   "execution_count": 119,
   "id": "fb89ea6f-bcfa-40a6-8514-77b114905530",
   "metadata": {},
   "outputs": [],
   "source": [
    "import numpy as np\n",
    "\n",
    "T=np.array([[10, 20, 30],\n",
    "       [3, 50, 5],\n",
    "       [70, 80, 90],\n",
    "       [100, 110, 120]])\n",
    "\n"
   ]
  },
  {
   "cell_type": "code",
   "execution_count": 120,
   "id": "0f5a8902-0429-450c-8d1c-412c0f8bfead",
   "metadata": {},
   "outputs": [
    {
     "name": "stdout",
     "output_type": "stream",
     "text": [
      "[[ 10  20  30]\n",
      " [  3  50   5]\n",
      " [ 70  80  90]\n",
      " [100 110 120]]\n",
      "La Moyenne de chaque ligne : [ 20.          19.33333333  80.         110.        ]\n"
     ]
    }
   ],
   "source": [
    "print(T)\n",
    "\n",
    "print(\"La Moyenne de chaque ligne :\", np.mean(T,axis=1))"
   ]
  },
  {
   "cell_type": "code",
   "execution_count": null,
   "id": "1a402798-7a44-4a63-a838-26532d84bb1f",
   "metadata": {},
   "outputs": [],
   "source": []
  }
 ],
 "metadata": {
  "kernelspec": {
   "display_name": "Python 3 (ipykernel)",
   "language": "python",
   "name": "python3"
  },
  "language_info": {
   "codemirror_mode": {
    "name": "ipython",
    "version": 3
   },
   "file_extension": ".py",
   "mimetype": "text/x-python",
   "name": "python",
   "nbconvert_exporter": "python",
   "pygments_lexer": "ipython3",
   "version": "3.9.7"
  }
 },
 "nbformat": 4,
 "nbformat_minor": 5
}
